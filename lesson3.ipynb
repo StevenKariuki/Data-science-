{
 "cells": [
  {
   "cell_type": "code",
   "execution_count": 147,
   "metadata": {},
   "outputs": [
    {
     "data": {
      "text/html": [
       "<div>\n",
       "<style scoped>\n",
       "    .dataframe tbody tr th:only-of-type {\n",
       "        vertical-align: middle;\n",
       "    }\n",
       "\n",
       "    .dataframe tbody tr th {\n",
       "        vertical-align: top;\n",
       "    }\n",
       "\n",
       "    .dataframe thead th {\n",
       "        text-align: right;\n",
       "    }\n",
       "</style>\n",
       "<table border=\"1\" class=\"dataframe\">\n",
       "  <thead>\n",
       "    <tr style=\"text-align: right;\">\n",
       "      <th></th>\n",
       "      <th>TV</th>\n",
       "      <th>Radio</th>\n",
       "      <th>Newspaper</th>\n",
       "      <th>Sales</th>\n",
       "    </tr>\n",
       "  </thead>\n",
       "  <tbody>\n",
       "    <tr>\n",
       "      <th>0</th>\n",
       "      <td>230.1</td>\n",
       "      <td>37.8</td>\n",
       "      <td>69.2</td>\n",
       "      <td>22.1</td>\n",
       "    </tr>\n",
       "    <tr>\n",
       "      <th>1</th>\n",
       "      <td>44.5</td>\n",
       "      <td>39.3</td>\n",
       "      <td>45.1</td>\n",
       "      <td>10.4</td>\n",
       "    </tr>\n",
       "    <tr>\n",
       "      <th>2</th>\n",
       "      <td>17.2</td>\n",
       "      <td>45.9</td>\n",
       "      <td>69.3</td>\n",
       "      <td>9.3</td>\n",
       "    </tr>\n",
       "    <tr>\n",
       "      <th>3</th>\n",
       "      <td>151.5</td>\n",
       "      <td>41.3</td>\n",
       "      <td>58.5</td>\n",
       "      <td>18.5</td>\n",
       "    </tr>\n",
       "    <tr>\n",
       "      <th>4</th>\n",
       "      <td>180.8</td>\n",
       "      <td>10.8</td>\n",
       "      <td>58.4</td>\n",
       "      <td>12.9</td>\n",
       "    </tr>\n",
       "    <tr>\n",
       "      <th>...</th>\n",
       "      <td>...</td>\n",
       "      <td>...</td>\n",
       "      <td>...</td>\n",
       "      <td>...</td>\n",
       "    </tr>\n",
       "    <tr>\n",
       "      <th>195</th>\n",
       "      <td>38.2</td>\n",
       "      <td>3.7</td>\n",
       "      <td>13.8</td>\n",
       "      <td>7.6</td>\n",
       "    </tr>\n",
       "    <tr>\n",
       "      <th>196</th>\n",
       "      <td>94.2</td>\n",
       "      <td>4.9</td>\n",
       "      <td>8.1</td>\n",
       "      <td>9.7</td>\n",
       "    </tr>\n",
       "    <tr>\n",
       "      <th>197</th>\n",
       "      <td>177.0</td>\n",
       "      <td>9.3</td>\n",
       "      <td>6.4</td>\n",
       "      <td>12.8</td>\n",
       "    </tr>\n",
       "    <tr>\n",
       "      <th>198</th>\n",
       "      <td>283.6</td>\n",
       "      <td>42.0</td>\n",
       "      <td>66.2</td>\n",
       "      <td>25.5</td>\n",
       "    </tr>\n",
       "    <tr>\n",
       "      <th>199</th>\n",
       "      <td>232.1</td>\n",
       "      <td>8.6</td>\n",
       "      <td>8.7</td>\n",
       "      <td>13.4</td>\n",
       "    </tr>\n",
       "  </tbody>\n",
       "</table>\n",
       "<p>200 rows × 4 columns</p>\n",
       "</div>"
      ],
      "text/plain": [
       "        TV  Radio  Newspaper  Sales\n",
       "0    230.1   37.8       69.2   22.1\n",
       "1     44.5   39.3       45.1   10.4\n",
       "2     17.2   45.9       69.3    9.3\n",
       "3    151.5   41.3       58.5   18.5\n",
       "4    180.8   10.8       58.4   12.9\n",
       "..     ...    ...        ...    ...\n",
       "195   38.2    3.7       13.8    7.6\n",
       "196   94.2    4.9        8.1    9.7\n",
       "197  177.0    9.3        6.4   12.8\n",
       "198  283.6   42.0       66.2   25.5\n",
       "199  232.1    8.6        8.7   13.4\n",
       "\n",
       "[200 rows x 4 columns]"
      ]
     },
     "execution_count": 147,
     "metadata": {},
     "output_type": "execute_result"
    }
   ],
   "source": [
    "# SUPERVISED LEARNING -->Features X and outcomes Y \n",
    "# Regression Problem --> Occurs when The outcome variable Y is continous/Numeric Data\n",
    "# Sales ,score,Algo Forex Trading, Weather Focusting, Finance (GDP)\n",
    "# featch dataset\n",
    "\n",
    "import pandas\n",
    "data = pandas .read_csv('data/Advertising.csv')\n",
    "data"
   ]
  },
  {
   "cell_type": "code",
   "execution_count": null,
   "metadata": {},
   "outputs": [],
   "source": []
  },
  {
   "cell_type": "code",
   "execution_count": 148,
   "metadata": {},
   "outputs": [
    {
     "data": {
      "text/plain": [
       "TV           0\n",
       "Radio        0\n",
       "Newspaper    0\n",
       "Sales        0\n",
       "dtype: int64"
      ]
     },
     "execution_count": 148,
     "metadata": {},
     "output_type": "execute_result"
    }
   ],
   "source": [
    "# Data Analysis\n",
    "# Empties\n",
    "data.isnull().sum()"
   ]
  },
  {
   "cell_type": "code",
   "execution_count": 149,
   "metadata": {},
   "outputs": [
    {
     "data": {
      "text/html": [
       "<div>\n",
       "<style scoped>\n",
       "    .dataframe tbody tr th:only-of-type {\n",
       "        vertical-align: middle;\n",
       "    }\n",
       "\n",
       "    .dataframe tbody tr th {\n",
       "        vertical-align: top;\n",
       "    }\n",
       "\n",
       "    .dataframe thead th {\n",
       "        text-align: right;\n",
       "    }\n",
       "</style>\n",
       "<table border=\"1\" class=\"dataframe\">\n",
       "  <thead>\n",
       "    <tr style=\"text-align: right;\">\n",
       "      <th></th>\n",
       "      <th>TV</th>\n",
       "      <th>Radio</th>\n",
       "      <th>Newspaper</th>\n",
       "      <th>Sales</th>\n",
       "    </tr>\n",
       "  </thead>\n",
       "  <tbody>\n",
       "    <tr>\n",
       "      <th>count</th>\n",
       "      <td>200.000000</td>\n",
       "      <td>200.000000</td>\n",
       "      <td>200.000000</td>\n",
       "      <td>200.000000</td>\n",
       "    </tr>\n",
       "    <tr>\n",
       "      <th>mean</th>\n",
       "      <td>147.042500</td>\n",
       "      <td>23.264000</td>\n",
       "      <td>30.554000</td>\n",
       "      <td>14.022500</td>\n",
       "    </tr>\n",
       "    <tr>\n",
       "      <th>std</th>\n",
       "      <td>85.854236</td>\n",
       "      <td>14.846809</td>\n",
       "      <td>21.778621</td>\n",
       "      <td>5.217457</td>\n",
       "    </tr>\n",
       "    <tr>\n",
       "      <th>min</th>\n",
       "      <td>0.700000</td>\n",
       "      <td>0.000000</td>\n",
       "      <td>0.300000</td>\n",
       "      <td>1.600000</td>\n",
       "    </tr>\n",
       "    <tr>\n",
       "      <th>25%</th>\n",
       "      <td>74.375000</td>\n",
       "      <td>9.975000</td>\n",
       "      <td>12.750000</td>\n",
       "      <td>10.375000</td>\n",
       "    </tr>\n",
       "    <tr>\n",
       "      <th>50%</th>\n",
       "      <td>149.750000</td>\n",
       "      <td>22.900000</td>\n",
       "      <td>25.750000</td>\n",
       "      <td>12.900000</td>\n",
       "    </tr>\n",
       "    <tr>\n",
       "      <th>75%</th>\n",
       "      <td>218.825000</td>\n",
       "      <td>36.525000</td>\n",
       "      <td>45.100000</td>\n",
       "      <td>17.400000</td>\n",
       "    </tr>\n",
       "    <tr>\n",
       "      <th>max</th>\n",
       "      <td>296.400000</td>\n",
       "      <td>49.600000</td>\n",
       "      <td>114.000000</td>\n",
       "      <td>27.000000</td>\n",
       "    </tr>\n",
       "  </tbody>\n",
       "</table>\n",
       "</div>"
      ],
      "text/plain": [
       "               TV       Radio   Newspaper       Sales\n",
       "count  200.000000  200.000000  200.000000  200.000000\n",
       "mean   147.042500   23.264000   30.554000   14.022500\n",
       "std     85.854236   14.846809   21.778621    5.217457\n",
       "min      0.700000    0.000000    0.300000    1.600000\n",
       "25%     74.375000    9.975000   12.750000   10.375000\n",
       "50%    149.750000   22.900000   25.750000   12.900000\n",
       "75%    218.825000   36.525000   45.100000   17.400000\n",
       "max    296.400000   49.600000  114.000000   27.000000"
      ]
     },
     "execution_count": 149,
     "metadata": {},
     "output_type": "execute_result"
    }
   ],
   "source": [
    "# Descriptive Statistics\n",
    "data.describe()"
   ]
  },
  {
   "cell_type": "code",
   "execution_count": 150,
   "metadata": {},
   "outputs": [
    {
     "data": {
      "text/html": [
       "<div>\n",
       "<style scoped>\n",
       "    .dataframe tbody tr th:only-of-type {\n",
       "        vertical-align: middle;\n",
       "    }\n",
       "\n",
       "    .dataframe tbody tr th {\n",
       "        vertical-align: top;\n",
       "    }\n",
       "\n",
       "    .dataframe thead th {\n",
       "        text-align: right;\n",
       "    }\n",
       "</style>\n",
       "<table border=\"1\" class=\"dataframe\">\n",
       "  <thead>\n",
       "    <tr style=\"text-align: right;\">\n",
       "      <th></th>\n",
       "      <th>TV</th>\n",
       "      <th>Radio</th>\n",
       "      <th>Newspaper</th>\n",
       "      <th>Sales</th>\n",
       "    </tr>\n",
       "  </thead>\n",
       "  <tbody>\n",
       "    <tr>\n",
       "      <th>TV</th>\n",
       "      <td>1.000000</td>\n",
       "      <td>0.054809</td>\n",
       "      <td>0.056648</td>\n",
       "      <td>0.782224</td>\n",
       "    </tr>\n",
       "    <tr>\n",
       "      <th>Radio</th>\n",
       "      <td>0.054809</td>\n",
       "      <td>1.000000</td>\n",
       "      <td>0.354104</td>\n",
       "      <td>0.576223</td>\n",
       "    </tr>\n",
       "    <tr>\n",
       "      <th>Newspaper</th>\n",
       "      <td>0.056648</td>\n",
       "      <td>0.354104</td>\n",
       "      <td>1.000000</td>\n",
       "      <td>0.228299</td>\n",
       "    </tr>\n",
       "    <tr>\n",
       "      <th>Sales</th>\n",
       "      <td>0.782224</td>\n",
       "      <td>0.576223</td>\n",
       "      <td>0.228299</td>\n",
       "      <td>1.000000</td>\n",
       "    </tr>\n",
       "  </tbody>\n",
       "</table>\n",
       "</div>"
      ],
      "text/plain": [
       "                 TV     Radio  Newspaper     Sales\n",
       "TV         1.000000  0.054809   0.056648  0.782224\n",
       "Radio      0.054809  1.000000   0.354104  0.576223\n",
       "Newspaper  0.056648  0.354104   1.000000  0.228299\n",
       "Sales      0.782224  0.576223   0.228299  1.000000"
      ]
     },
     "execution_count": 150,
     "metadata": {},
     "output_type": "execute_result"
    }
   ],
   "source": [
    "# Correlation: Genarates relationship btn the columns on the dataset\n",
    "# Positive corr ->Increase iin ano variable lead sto the increase in the other \n",
    "# Negative corr->Incearse in one variable decreases the other variables \n",
    "# corr()\n",
    "# Visulized on a Head Map\n",
    "\n",
    "data.corr() "
   ]
  },
  {
   "cell_type": "code",
   "execution_count": 151,
   "metadata": {},
   "outputs": [],
   "source": [
    "# SCATTER PLOT\n",
    "import matplotlib.pyplot as plt\n",
    "import seaborn as sns"
   ]
  },
  {
   "cell_type": "code",
   "execution_count": 152,
   "metadata": {},
   "outputs": [
    {
     "name": "stderr",
     "output_type": "stream",
     "text": [
      "C:\\Users\\steve\\AppData\\Local\\Temp\\ipykernel_1744\\1490283864.py:1: MatplotlibDeprecationWarning: The seaborn styles shipped by Matplotlib are deprecated since 3.6, as they no longer correspond to the styles shipped by seaborn. However, they will remain available as 'seaborn-v0_8-<style>'. Alternatively, directly use the seaborn API instead.\n",
      "  plt.style.use(\"seaborn\")\n"
     ]
    }
   ],
   "source": [
    "plt.style.use(\"seaborn\")"
   ]
  },
  {
   "cell_type": "code",
   "execution_count": 153,
   "metadata": {},
   "outputs": [
    {
     "data": {
      "text/plain": [
       "<Axes: xlabel='TV', ylabel='TV'>"
      ]
     },
     "execution_count": 153,
     "metadata": {},
     "output_type": "execute_result"
    },
    {
     "data": {
      "image/png": "[encoded data removed]",
      "text/plain": [
       "<Figure size 800x550 with 1 Axes>"
      ]
     },
     "metadata": {},
     "output_type": "display_data"
    }
   ],
   "source": [
    "\n",
    "sns.scatterplot(x ='TV',y='TV', data =data)"
   ]
  },
  {
   "cell_type": "code",
   "execution_count": 154,
   "metadata": {},
   "outputs": [
    {
     "data": {
      "text/plain": [
       "<Axes: xlabel='Radio', ylabel='Radio'>"
      ]
     },
     "execution_count": 154,
     "metadata": {},
     "output_type": "execute_result"
    },
    {
     "data": {
      "image/png": "[encoded data removed]",
      "text/plain": [
       "<Figure size 800x550 with 1 Axes>"
      ]
     },
     "metadata": {},
     "output_type": "display_data"
    }
   ],
   "source": [
    "# y = mx + c\n",
    "sns.scatterplot(x='Radio',y='Radio',data = data)"
   ]
  },
  {
   "cell_type": "code",
   "execution_count": 155,
   "metadata": {},
   "outputs": [
    {
     "data": {
      "text/plain": [
       "<Axes: xlabel='Newspaper', ylabel='Newspaper'>"
      ]
     },
     "execution_count": 155,
     "metadata": {},
     "output_type": "execute_result"
    },
    {
     "data": {
      "image/png": "[encoded data removed]",
      "text/plain": [
       "<Figure size 800x550 with 1 Axes>"
      ]
     },
     "metadata": {},
     "output_type": "display_data"
    }
   ],
   "source": [
    "sns.scatterplot(x='Newspaper',y='Newspaper',data = data)"
   ]
  },
  {
   "cell_type": "code",
   "execution_count": 156,
   "metadata": {},
   "outputs": [
    {
     "data": {
      "text/plain": [
       "array([[230.1,  37.8,  69.2,  22.1],\n",
       "       [ 44.5,  39.3,  45.1,  10.4],\n",
       "       [ 17.2,  45.9,  69.3,   9.3],\n",
       "       [151.5,  41.3,  58.5,  18.5],\n",
       "       [180.8,  10.8,  58.4,  12.9],\n",
       "       [  8.7,  48.9,  75. ,   7.2],\n",
       "       [ 57.5,  32.8,  23.5,  11.8],\n",
       "       [120.2,  19.6,  11.6,  13.2],\n",
       "       [  8.6,   2.1,   1. ,   4.8],\n",
       "       [199.8,   2.6,  21.2,  10.6],\n",
       "       [ 66.1,   5.8,  24.2,   8.6],\n",
       "       [214.7,  24. ,   4. ,  17.4],\n",
       "       [ 23.8,  35.1,  65.9,   9.2],\n",
       "       [ 97.5,   7.6,   7.2,   9.7],\n",
       "       [204.1,  32.9,  46. ,  19. ],\n",
       "       [195.4,  47.7,  52.9,  22.4],\n",
       "       [ 67.8,  36.6, 114. ,  12.5],\n",
       "       [281.4,  39.6,  55.8,  24.4],\n",
       "       [ 69.2,  20.5,  18.3,  11.3],\n",
       "       [147.3,  23.9,  19.1,  14.6],\n",
       "       [218.4,  27.7,  53.4,  18. ],\n",
       "       [237.4,   5.1,  23.5,  12.5],\n",
       "       [ 13.2,  15.9,  49.6,   5.6],\n",
       "       [228.3,  16.9,  26.2,  15.5],\n",
       "       [ 62.3,  12.6,  18.3,   9.7],\n",
       "       [262.9,   3.5,  19.5,  12. ],\n",
       "       [142.9,  29.3,  12.6,  15. ],\n",
       "       [240.1,  16.7,  22.9,  15.9],\n",
       "       [248.8,  27.1,  22.9,  18.9],\n",
       "       [ 70.6,  16. ,  40.8,  10.5],\n",
       "       [292.9,  28.3,  43.2,  21.4],\n",
       "       [112.9,  17.4,  38.6,  11.9],\n",
       "       [ 97.2,   1.5,  30. ,   9.6],\n",
       "       [265.6,  20. ,   0.3,  17.4],\n",
       "       [ 95.7,   1.4,   7.4,   9.5],\n",
       "       [290.7,   4.1,   8.5,  12.8],\n",
       "       [266.9,  43.8,   5. ,  25.4],\n",
       "       [ 74.7,  49.4,  45.7,  14.7],\n",
       "       [ 43.1,  26.7,  35.1,  10.1],\n",
       "       [228. ,  37.7,  32. ,  21.5],\n",
       "       [202.5,  22.3,  31.6,  16.6],\n",
       "       [177. ,  33.4,  38.7,  17.1],\n",
       "       [293.6,  27.7,   1.8,  20.7],\n",
       "       [206.9,   8.4,  26.4,  12.9],\n",
       "       [ 25.1,  25.7,  43.3,   8.5],\n",
       "       [175.1,  22.5,  31.5,  14.9],\n",
       "       [ 89.7,   9.9,  35.7,  10.6],\n",
       "       [239.9,  41.5,  18.5,  23.2],\n",
       "       [227.2,  15.8,  49.9,  14.8],\n",
       "       [ 66.9,  11.7,  36.8,   9.7],\n",
       "       [199.8,   3.1,  34.6,  11.4],\n",
       "       [100.4,   9.6,   3.6,  10.7],\n",
       "       [216.4,  41.7,  39.6,  22.6],\n",
       "       [182.6,  46.2,  58.7,  21.2],\n",
       "       [262.7,  28.8,  15.9,  20.2],\n",
       "       [198.9,  49.4,  60. ,  23.7],\n",
       "       [  7.3,  28.1,  41.4,   5.5],\n",
       "       [136.2,  19.2,  16.6,  13.2],\n",
       "       [210.8,  49.6,  37.7,  23.8],\n",
       "       [210.7,  29.5,   9.3,  18.4],\n",
       "       [ 53.5,   2. ,  21.4,   8.1],\n",
       "       [261.3,  42.7,  54.7,  24.2],\n",
       "       [239.3,  15.5,  27.3,  15.7],\n",
       "       [102.7,  29.6,   8.4,  14. ],\n",
       "       [131.1,  42.8,  28.9,  18. ],\n",
       "       [ 69. ,   9.3,   0.9,   9.3],\n",
       "       [ 31.5,  24.6,   2.2,   9.5],\n",
       "       [139.3,  14.5,  10.2,  13.4],\n",
       "       [237.4,  27.5,  11. ,  18.9],\n",
       "       [216.8,  43.9,  27.2,  22.3],\n",
       "       [199.1,  30.6,  38.7,  18.3],\n",
       "       [109.8,  14.3,  31.7,  12.4],\n",
       "       [ 26.8,  33. ,  19.3,   8.8],\n",
       "       [129.4,   5.7,  31.3,  11. ],\n",
       "       [213.4,  24.6,  13.1,  17. ],\n",
       "       [ 16.9,  43.7,  89.4,   8.7],\n",
       "       [ 27.5,   1.6,  20.7,   6.9],\n",
       "       [120.5,  28.5,  14.2,  14.2],\n",
       "       [  5.4,  29.9,   9.4,   5.3],\n",
       "       [116. ,   7.7,  23.1,  11. ],\n",
       "       [ 76.4,  26.7,  22.3,  11.8],\n",
       "       [239.8,   4.1,  36.9,  12.3],\n",
       "       [ 75.3,  20.3,  32.5,  11.3],\n",
       "       [ 68.4,  44.5,  35.6,  13.6],\n",
       "       [213.5,  43. ,  33.8,  21.7],\n",
       "       [193.2,  18.4,  65.7,  15.2],\n",
       "       [ 76.3,  27.5,  16. ,  12. ],\n",
       "       [110.7,  40.6,  63.2,  16. ],\n",
       "       [ 88.3,  25.5,  73.4,  12.9],\n",
       "       [109.8,  47.8,  51.4,  16.7],\n",
       "       [134.3,   4.9,   9.3,  11.2],\n",
       "       [ 28.6,   1.5,  33. ,   7.3],\n",
       "       [217.7,  33.5,  59. ,  19.4],\n",
       "       [250.9,  36.5,  72.3,  22.2],\n",
       "       [107.4,  14. ,  10.9,  11.5],\n",
       "       [163.3,  31.6,  52.9,  16.9],\n",
       "       [197.6,   3.5,   5.9,  11.7],\n",
       "       [184.9,  21. ,  22. ,  15.5],\n",
       "       [289.7,  42.3,  51.2,  25.4],\n",
       "       [135.2,  41.7,  45.9,  17.2],\n",
       "       [222.4,   4.3,  49.8,  11.7],\n",
       "       [296.4,  36.3, 100.9,  23.8],\n",
       "       [280.2,  10.1,  21.4,  14.8],\n",
       "       [187.9,  17.2,  17.9,  14.7],\n",
       "       [238.2,  34.3,   5.3,  20.7],\n",
       "       [137.9,  46.4,  59. ,  19.2],\n",
       "       [ 25. ,  11. ,  29.7,   7.2],\n",
       "       [ 90.4,   0.3,  23.2,   8.7],\n",
       "       [ 13.1,   0.4,  25.6,   5.3],\n",
       "       [255.4,  26.9,   5.5,  19.8],\n",
       "       [225.8,   8.2,  56.5,  13.4],\n",
       "       [241.7,  38. ,  23.2,  21.8],\n",
       "       [175.7,  15.4,   2.4,  14.1],\n",
       "       [209.6,  20.6,  10.7,  15.9],\n",
       "       [ 78.2,  46.8,  34.5,  14.6],\n",
       "       [ 75.1,  35. ,  52.7,  12.6],\n",
       "       [139.2,  14.3,  25.6,  12.2],\n",
       "       [ 76.4,   0.8,  14.8,   9.4],\n",
       "       [125.7,  36.9,  79.2,  15.9],\n",
       "       [ 19.4,  16. ,  22.3,   6.6],\n",
       "       [141.3,  26.8,  46.2,  15.5],\n",
       "       [ 18.8,  21.7,  50.4,   7. ],\n",
       "       [224. ,   2.4,  15.6,  11.6],\n",
       "       [123.1,  34.6,  12.4,  15.2],\n",
       "       [229.5,  32.3,  74.2,  19.7],\n",
       "       [ 87.2,  11.8,  25.9,  10.6],\n",
       "       [  7.8,  38.9,  50.6,   6.6],\n",
       "       [ 80.2,   0. ,   9.2,   8.8],\n",
       "       [220.3,  49. ,   3.2,  24.7],\n",
       "       [ 59.6,  12. ,  43.1,   9.7],\n",
       "       [  0.7,  39.6,   8.7,   1.6],\n",
       "       [265.2,   2.9,  43. ,  12.7],\n",
       "       [  8.4,  27.2,   2.1,   5.7],\n",
       "       [219.8,  33.5,  45.1,  19.6],\n",
       "       [ 36.9,  38.6,  65.6,  10.8],\n",
       "       [ 48.3,  47. ,   8.5,  11.6],\n",
       "       [ 25.6,  39. ,   9.3,   9.5],\n",
       "       [273.7,  28.9,  59.7,  20.8],\n",
       "       [ 43. ,  25.9,  20.5,   9.6],\n",
       "       [184.9,  43.9,   1.7,  20.7],\n",
       "       [ 73.4,  17. ,  12.9,  10.9],\n",
       "       [193.7,  35.4,  75.6,  19.2],\n",
       "       [220.5,  33.2,  37.9,  20.1],\n",
       "       [104.6,   5.7,  34.4,  10.4],\n",
       "       [ 96.2,  14.8,  38.9,  11.4],\n",
       "       [140.3,   1.9,   9. ,  10.3],\n",
       "       [240.1,   7.3,   8.7,  13.2],\n",
       "       [243.2,  49. ,  44.3,  25.4],\n",
       "       [ 38. ,  40.3,  11.9,  10.9],\n",
       "       [ 44.7,  25.8,  20.6,  10.1],\n",
       "       [280.7,  13.9,  37. ,  16.1],\n",
       "       [121. ,   8.4,  48.7,  11.6],\n",
       "       [197.6,  23.3,  14.2,  16.6],\n",
       "       [171.3,  39.7,  37.7,  19. ],\n",
       "       [187.8,  21.1,   9.5,  15.6],\n",
       "       [  4.1,  11.6,   5.7,   3.2],\n",
       "       [ 93.9,  43.5,  50.5,  15.3],\n",
       "       [149.8,   1.3,  24.3,  10.1],\n",
       "       [ 11.7,  36.9,  45.2,   7.3],\n",
       "       [131.7,  18.4,  34.6,  12.9],\n",
       "       [172.5,  18.1,  30.7,  14.4],\n",
       "       [ 85.7,  35.8,  49.3,  13.3],\n",
       "       [188.4,  18.1,  25.6,  14.9],\n",
       "       [163.5,  36.8,   7.4,  18. ],\n",
       "       [117.2,  14.7,   5.4,  11.9],\n",
       "       [234.5,   3.4,  84.8,  11.9],\n",
       "       [ 17.9,  37.6,  21.6,   8. ],\n",
       "       [206.8,   5.2,  19.4,  12.2],\n",
       "       [215.4,  23.6,  57.6,  17.1],\n",
       "       [284.3,  10.6,   6.4,  15. ],\n",
       "       [ 50. ,  11.6,  18.4,   8.4],\n",
       "       [164.5,  20.9,  47.4,  14.5],\n",
       "       [ 19.6,  20.1,  17. ,   7.6],\n",
       "       [168.4,   7.1,  12.8,  11.7],\n",
       "       [222.4,   3.4,  13.1,  11.5],\n",
       "       [276.9,  48.9,  41.8,  27. ],\n",
       "       [248.4,  30.2,  20.3,  20.2],\n",
       "       [170.2,   7.8,  35.2,  11.7],\n",
       "       [276.7,   2.3,  23.7,  11.8],\n",
       "       [165.6,  10. ,  17.6,  12.6],\n",
       "       [156.6,   2.6,   8.3,  10.5],\n",
       "       [218.5,   5.4,  27.4,  12.2],\n",
       "       [ 56.2,   5.7,  29.7,   8.7],\n",
       "       [287.6,  43. ,  71.8,  26.2],\n",
       "       [253.8,  21.3,  30. ,  17.6],\n",
       "       [205. ,  45.1,  19.6,  22.6],\n",
       "       [139.5,   2.1,  26.6,  10.3],\n",
       "       [191.1,  28.7,  18.2,  17.3],\n",
       "       [286. ,  13.9,   3.7,  15.9],\n",
       "       [ 18.7,  12.1,  23.4,   6.7],\n",
       "       [ 39.5,  41.1,   5.8,  10.8],\n",
       "       [ 75.5,  10.8,   6. ,   9.9],\n",
       "       [ 17.2,   4.1,  31.6,   5.9],\n",
       "       [166.8,  42. ,   3.6,  19.6],\n",
       "       [149.7,  35.6,   6. ,  17.3],\n",
       "       [ 38.2,   3.7,  13.8,   7.6],\n",
       "       [ 94.2,   4.9,   8.1,   9.7],\n",
       "       [177. ,   9.3,   6.4,  12.8],\n",
       "       [283.6,  42. ,  66.2,  25.5],\n",
       "       [232.1,   8.6,   8.7,  13.4]])"
      ]
     },
     "execution_count": 156,
     "metadata": {},
     "output_type": "execute_result"
    }
   ],
   "source": [
    "# MACHINE LEARNING\n",
    "\n",
    "array =data.values\n",
    "array \n",
    "\n"
   ]
  },
  {
   "cell_type": "code",
   "execution_count": 157,
   "metadata": {},
   "outputs": [
    {
     "data": {
      "text/plain": [
       "(200, 4)"
      ]
     },
     "execution_count": 157,
     "metadata": {},
     "output_type": "execute_result"
    }
   ],
   "source": [
    "data.shape"
   ]
  },
  {
   "cell_type": "code",
   "execution_count": 158,
   "metadata": {},
   "outputs": [
    {
     "data": {
      "text/plain": [
       "array([22.1, 10.4,  9.3, 18.5, 12.9,  7.2, 11.8, 13.2,  4.8, 10.6,  8.6,\n",
       "       17.4,  9.2,  9.7, 19. , 22.4, 12.5, 24.4, 11.3, 14.6, 18. , 12.5,\n",
       "        5.6, 15.5,  9.7, 12. , 15. , 15.9, 18.9, 10.5, 21.4, 11.9,  9.6,\n",
       "       17.4,  9.5, 12.8, 25.4, 14.7, 10.1, 21.5, 16.6, 17.1, 20.7, 12.9,\n",
       "        8.5, 14.9, 10.6, 23.2, 14.8,  9.7, 11.4, 10.7, 22.6, 21.2, 20.2,\n",
       "       23.7,  5.5, 13.2, 23.8, 18.4,  8.1, 24.2, 15.7, 14. , 18. ,  9.3,\n",
       "        9.5, 13.4, 18.9, 22.3, 18.3, 12.4,  8.8, 11. , 17. ,  8.7,  6.9,\n",
       "       14.2,  5.3, 11. , 11.8, 12.3, 11.3, 13.6, 21.7, 15.2, 12. , 16. ,\n",
       "       12.9, 16.7, 11.2,  7.3, 19.4, 22.2, 11.5, 16.9, 11.7, 15.5, 25.4,\n",
       "       17.2, 11.7, 23.8, 14.8, 14.7, 20.7, 19.2,  7.2,  8.7,  5.3, 19.8,\n",
       "       13.4, 21.8, 14.1, 15.9, 14.6, 12.6, 12.2,  9.4, 15.9,  6.6, 15.5,\n",
       "        7. , 11.6, 15.2, 19.7, 10.6,  6.6,  8.8, 24.7,  9.7,  1.6, 12.7,\n",
       "        5.7, 19.6, 10.8, 11.6,  9.5, 20.8,  9.6, 20.7, 10.9, 19.2, 20.1,\n",
       "       10.4, 11.4, 10.3, 13.2, 25.4, 10.9, 10.1, 16.1, 11.6, 16.6, 19. ,\n",
       "       15.6,  3.2, 15.3, 10.1,  7.3, 12.9, 14.4, 13.3, 14.9, 18. , 11.9,\n",
       "       11.9,  8. , 12.2, 17.1, 15. ,  8.4, 14.5,  7.6, 11.7, 11.5, 27. ,\n",
       "       20.2, 11.7, 11.8, 12.6, 10.5, 12.2,  8.7, 26.2, 17.6, 22.6, 10.3,\n",
       "       17.3, 15.9,  6.7, 10.8,  9.9,  5.9, 19.6, 17.3,  7.6,  9.7, 12.8,\n",
       "       25.5, 13.4])"
      ]
     },
     "execution_count": 158,
     "metadata": {},
     "output_type": "execute_result"
    }
   ],
   "source": [
    "# Features X -> TV ,Radio, Newspaper\n",
    "X = array[0:200,0:3]\n",
    "y = array[0:200,3]\n",
    "y"
   ]
  },
  {
   "cell_type": "code",
   "execution_count": 159,
   "metadata": {},
   "outputs": [],
   "source": [
    "# Step 2 \n",
    "# split X,Y into Traininig(70%) and testing(30%)\n",
    "from sklearn import model_selection\n",
    "X_train, X_test, Y_train, Y_test = model_selection.train_test_split(X, y, test_size=0.3, random_state = 42)"
   ]
  },
  {
   "cell_type": "code",
   "execution_count": 160,
   "metadata": {},
   "outputs": [],
   "source": [
    "# Training\n",
    "from sklearn.neighbors import KNeighborsClassifier\n",
    "from sklearn.svm import SVR\n",
    "from sklearn.neighbors import KNeighborsClassifier\n",
    "from sklearn.linear_model import LinearRegression\n",
    "from sklearn.ensemble import GradientBoostingClassifier,RandomForestClassifier"
   ]
  },
  {
   "cell_type": "code",
   "execution_count": 161,
   "metadata": {},
   "outputs": [],
   "source": [
    "# Cross Validation"
   ]
  },
  {
   "cell_type": "code",
   "execution_count": 162,
   "metadata": {},
   "outputs": [
    {
     "data": {
      "text/html": [
       "<style>#sk-container-id-5 {color: black;background-color: white;}#sk-container-id-5 pre{padding: 0;}#sk-container-id-5 div.sk-toggleable {background-color: white;}#sk-container-id-5 label.sk-toggleable__label {cursor: pointer;display: block;width: 100%;margin-bottom: 0;padding: 0.3em;box-sizing: border-box;text-align: center;}#sk-container-id-5 label.sk-toggleable__label-arrow:before {content: \"▸\";float: left;margin-right: 0.25em;color: #696969;}#sk-container-id-5 label.sk-toggleable__label-arrow:hover:before {color: black;}#sk-container-id-5 div.sk-estimator:hover label.sk-toggleable__label-arrow:before {color: black;}#sk-container-id-5 div.sk-toggleable__content {max-height: 0;max-width: 0;overflow: hidden;text-align: left;background-color: #f0f8ff;}#sk-container-id-5 div.sk-toggleable__content pre {margin: 0.2em;color: black;border-radius: 0.25em;background-color: #f0f8ff;}#sk-container-id-5 input.sk-toggleable__control:checked~div.sk-toggleable__content {max-height: 200px;max-width: 100%;overflow: auto;}#sk-container-id-5 input.sk-toggleable__control:checked~label.sk-toggleable__label-arrow:before {content: \"▾\";}#sk-container-id-5 div.sk-estimator input.sk-toggleable__control:checked~label.sk-toggleable__label {background-color: #d4ebff;}#sk-container-id-5 div.sk-label input.sk-toggleable__control:checked~label.sk-toggleable__label {background-color: #d4ebff;}#sk-container-id-5 input.sk-hidden--visually {border: 0;clip: rect(1px 1px 1px 1px);clip: rect(1px, 1px, 1px, 1px);height: 1px;margin: -1px;overflow: hidden;padding: 0;position: absolute;width: 1px;}#sk-container-id-5 div.sk-estimator {font-family: monospace;background-color: #f0f8ff;border: 1px dotted black;border-radius: 0.25em;box-sizing: border-box;margin-bottom: 0.5em;}#sk-container-id-5 div.sk-estimator:hover {background-color: #d4ebff;}#sk-container-id-5 div.sk-parallel-item::after {content: \"\";width: 100%;border-bottom: 1px solid gray;flex-grow: 1;}#sk-container-id-5 div.sk-label:hover label.sk-toggleable__label {background-color: #d4ebff;}#sk-container-id-5 div.sk-serial::before {content: \"\";position: absolute;border-left: 1px solid gray;box-sizing: border-box;top: 0;bottom: 0;left: 50%;z-index: 0;}#sk-container-id-5 div.sk-serial {display: flex;flex-direction: column;align-items: center;background-color: white;padding-right: 0.2em;padding-left: 0.2em;position: relative;}#sk-container-id-5 div.sk-item {position: relative;z-index: 1;}#sk-container-id-5 div.sk-parallel {display: flex;align-items: stretch;justify-content: center;background-color: white;position: relative;}#sk-container-id-5 div.sk-item::before, #sk-container-id-5 div.sk-parallel-item::before {content: \"\";position: absolute;border-left: 1px solid gray;box-sizing: border-box;top: 0;bottom: 0;left: 50%;z-index: -1;}#sk-container-id-5 div.sk-parallel-item {display: flex;flex-direction: column;z-index: 1;position: relative;background-color: white;}#sk-container-id-5 div.sk-parallel-item:first-child::after {align-self: flex-end;width: 50%;}#sk-container-id-5 div.sk-parallel-item:last-child::after {align-self: flex-start;width: 50%;}#sk-container-id-5 div.sk-parallel-item:only-child::after {width: 0;}#sk-container-id-5 div.sk-dashed-wrapped {border: 1px dashed gray;margin: 0 0.4em 0.5em 0.4em;box-sizing: border-box;padding-bottom: 0.4em;background-color: white;}#sk-container-id-5 div.sk-label label {font-family: monospace;font-weight: bold;display: inline-block;line-height: 1.2em;}#sk-container-id-5 div.sk-label-container {text-align: center;}#sk-container-id-5 div.sk-container {/* jupyter's `normalize.less` sets `[hidden] { display: none; }` but bootstrap.min.css set `[hidden] { display: none !important; }` so we also need the `!important` here to be able to override the default hidden behavior on the sphinx rendered scikit-learn.org. See: https://github.com/scikit-learn/scikit-learn/issues/21755 */display: inline-block !important;position: relative;}#sk-container-id-5 div.sk-text-repr-fallback {display: none;}</style><div id=\"sk-container-id-5\" class=\"sk-top-container\"><div class=\"sk-text-repr-fallback\"><pre>LinearRegression()</pre><b>In a Jupyter environment, please rerun this cell to show the HTML representation or trust the notebook. <br />On GitHub, the HTML representation is unable to render, please try loading this page with nbviewer.org.</b></div><div class=\"sk-container\" hidden><div class=\"sk-item\"><div class=\"sk-estimator sk-toggleable\"><input class=\"sk-toggleable__control sk-hidden--visually\" id=\"sk-estimator-id-5\" type=\"checkbox\" checked><label for=\"sk-estimator-id-5\" class=\"sk-toggleable__label sk-toggleable__label-arrow\">LinearRegression</label><div class=\"sk-toggleable__content\"><pre>LinearRegression()</pre></div></div></div></div></div>"
      ],
      "text/plain": [
       "LinearRegression()"
      ]
     },
     "execution_count": 162,
     "metadata": {},
     "output_type": "execute_result"
    }
   ],
   "source": [
    "# step 5:TRAINING \n",
    "model = LinearRegression ()\n",
    "model.fit(X_train,Y_train)"
   ]
  },
  {
   "cell_type": "code",
   "execution_count": 163,
   "metadata": {},
   "outputs": [
    {
     "data": {
      "text/plain": [
       "array([16.5653963 , 21.18822792, 21.55107058, 10.88923816, 22.20231988,\n",
       "       13.35556872, 21.19692502,  7.35028523, 13.27547079, 15.12449511,\n",
       "        9.01443026,  6.52542825, 14.30205991,  8.97026042,  9.45679576,\n",
       "       12.00454351,  8.91549403, 16.15619251, 10.29582883, 18.72473553,\n",
       "       19.76821818, 13.77469028, 12.49638908, 21.53501762,  7.60860741,\n",
       "        5.6119801 , 20.91759483, 11.80627665,  9.08076637,  8.51412012,\n",
       "       12.17604891,  9.9691939 , 21.73008956, 12.77770578, 18.1011362 ,\n",
       "       20.07590796, 14.26202556, 20.93826535, 10.83938827,  4.38190607,\n",
       "        9.51332406, 12.40486324, 10.17045434,  8.09081363, 13.16388427,\n",
       "        5.2243552 ,  9.28893833, 14.09330719,  8.69024497, 11.66119763,\n",
       "       15.71848432, 11.63156862, 13.35360735, 11.1531472 ,  6.33636845,\n",
       "        9.76157954,  9.4195714 , 24.25516546,  7.69519137, 12.15317572])"
      ]
     },
     "execution_count": 163,
     "metadata": {},
     "output_type": "execute_result"
    }
   ],
   "source": [
    "# Testing \n",
    "Predictions = model.predict(X_test)\n",
    "Predictions"
   ]
  },
  {
   "cell_type": "code",
   "execution_count": 164,
   "metadata": {},
   "outputs": [
    {
     "name": "stdout",
     "output_type": "stream",
     "text": [
      "[16.9 22.4 21.4  7.3 24.7 12.6 22.3  8.4 11.5 14.9  9.5  8.7 11.9  5.3\n",
      " 10.3 11.7  5.5 16.6 11.3 18.9 19.7 12.5 10.9 22.2  9.3  8.1 21.7 13.4\n",
      " 10.6  5.7 10.6 11.3 23.7  8.7 16.1 20.7 11.6 20.8 11.9  6.9 11.  12.8\n",
      " 10.1  9.7 11.6  7.6 10.5 14.6 10.4 12.  14.6 11.7  7.2  6.6  9.4 11.\n",
      " 10.9 25.4  7.6 11.7]\n"
     ]
    }
   ],
   "source": [
    "print(Y_test)"
   ]
  },
  {
   "cell_type": "code",
   "execution_count": 165,
   "metadata": {},
   "outputs": [
    {
     "name": "stdout",
     "output_type": "stream",
     "text": [
      "MSE Accuracy: 0.8467730707328176\n"
     ]
    }
   ],
   "source": [
    "# Metrics ->r2_score\n",
    "# Measures the distance btn the model Predictions and the actual results\n",
    "# Mean-squared -error\n",
    "\n",
    "from sklearn.metrics import r2_score\n",
    "print(\"MSE Accuracy:\",r2_score(Predictions, Y_test))"
   ]
  },
  {
   "cell_type": "code",
   "execution_count": 166,
   "metadata": {},
   "outputs": [
    {
     "name": "stdout",
     "output_type": "stream",
     "text": [
      "84 percent Likely to make [42.95979494] sales\n"
     ]
    }
   ],
   "source": [
    "# Predictions:\n",
    "# TV\tRadio\tNewspaper\t\n",
    "advertisement_expenses = [[370,120,5]]\n",
    "sales = model.predict(advertisement_expenses)\n",
    "print(f\"84 percent Likely to make {sales} sales\")"
   ]
  },
  {
   "cell_type": "code",
   "execution_count": 167,
   "metadata": {},
   "outputs": [
    {
     "data": {
      "text/html": [
       "<div>\n",
       "<style scoped>\n",
       "    .dataframe tbody tr th:only-of-type {\n",
       "        vertical-align: middle;\n",
       "    }\n",
       "\n",
       "    .dataframe tbody tr th {\n",
       "        vertical-align: top;\n",
       "    }\n",
       "\n",
       "    .dataframe thead th {\n",
       "        text-align: right;\n",
       "    }\n",
       "</style>\n",
       "<table border=\"1\" class=\"dataframe\">\n",
       "  <thead>\n",
       "    <tr style=\"text-align: right;\">\n",
       "      <th></th>\n",
       "      <th>TV</th>\n",
       "      <th>Radio</th>\n",
       "      <th>Newspaper</th>\n",
       "      <th>Sales</th>\n",
       "    </tr>\n",
       "  </thead>\n",
       "  <tbody>\n",
       "    <tr>\n",
       "      <th>count</th>\n",
       "      <td>200.000000</td>\n",
       "      <td>200.000000</td>\n",
       "      <td>200.000000</td>\n",
       "      <td>200.000000</td>\n",
       "    </tr>\n",
       "    <tr>\n",
       "      <th>mean</th>\n",
       "      <td>147.042500</td>\n",
       "      <td>23.264000</td>\n",
       "      <td>30.554000</td>\n",
       "      <td>14.022500</td>\n",
       "    </tr>\n",
       "    <tr>\n",
       "      <th>std</th>\n",
       "      <td>85.854236</td>\n",
       "      <td>14.846809</td>\n",
       "      <td>21.778621</td>\n",
       "      <td>5.217457</td>\n",
       "    </tr>\n",
       "    <tr>\n",
       "      <th>min</th>\n",
       "      <td>0.700000</td>\n",
       "      <td>0.000000</td>\n",
       "      <td>0.300000</td>\n",
       "      <td>1.600000</td>\n",
       "    </tr>\n",
       "    <tr>\n",
       "      <th>25%</th>\n",
       "      <td>74.375000</td>\n",
       "      <td>9.975000</td>\n",
       "      <td>12.750000</td>\n",
       "      <td>10.375000</td>\n",
       "    </tr>\n",
       "    <tr>\n",
       "      <th>50%</th>\n",
       "      <td>149.750000</td>\n",
       "      <td>22.900000</td>\n",
       "      <td>25.750000</td>\n",
       "      <td>12.900000</td>\n",
       "    </tr>\n",
       "    <tr>\n",
       "      <th>75%</th>\n",
       "      <td>218.825000</td>\n",
       "      <td>36.525000</td>\n",
       "      <td>45.100000</td>\n",
       "      <td>17.400000</td>\n",
       "    </tr>\n",
       "    <tr>\n",
       "      <th>max</th>\n",
       "      <td>296.400000</td>\n",
       "      <td>49.600000</td>\n",
       "      <td>114.000000</td>\n",
       "      <td>27.000000</td>\n",
       "    </tr>\n",
       "  </tbody>\n",
       "</table>\n",
       "</div>"
      ],
      "text/plain": [
       "               TV       Radio   Newspaper       Sales\n",
       "count  200.000000  200.000000  200.000000  200.000000\n",
       "mean   147.042500   23.264000   30.554000   14.022500\n",
       "std     85.854236   14.846809   21.778621    5.217457\n",
       "min      0.700000    0.000000    0.300000    1.600000\n",
       "25%     74.375000    9.975000   12.750000   10.375000\n",
       "50%    149.750000   22.900000   25.750000   12.900000\n",
       "75%    218.825000   36.525000   45.100000   17.400000\n",
       "max    296.400000   49.600000  114.000000   27.000000"
      ]
     },
     "execution_count": 167,
     "metadata": {},
     "output_type": "execute_result"
    }
   ],
   "source": [
    "data.describe()"
   ]
  }
 ],
 "metadata": {
  "kernelspec": {
   "display_name": "Python 3",
   "language": "python",
   "name": "python3"
  },
  "language_info": {
   "codemirror_mode": {
    "name": "ipython",
    "version": 3
   },
   "file_extension": ".py",
   "mimetype": "text/x-python",
   "name": "python",
   "nbconvert_exporter": "python",
   "pygments_lexer": "ipython3",
   "version": "3.11.2"
  },
  "orig_nbformat": 4
 },
 "nbformat": 4,
 "nbformat_minor": 2
}
